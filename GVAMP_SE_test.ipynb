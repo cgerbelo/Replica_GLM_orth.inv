{
 "cells": [
  {
   "cell_type": "code",
   "execution_count": null,
   "metadata": {
    "scrolled": true
   },
   "outputs": [],
   "source": [
    "from GVAMP_toolbox import *\n",
    "import pandas as pd"
   ]
  },
  {
   "cell_type": "code",
   "execution_count": null,
   "metadata": {
    "scrolled": true
   },
   "outputs": [],
   "source": [
    "# parameters\n",
    "\n",
    "asp_vec = np.linspace(0.1,3,50)   # aspect_ratio\n",
    "delta0 = 0 # noise (only for linear regression)\n",
    "rho = 0.3   # sparsity of the teacher\n",
    "l1=0        # l1 penalty\n",
    "l2=0.001    # l2 penalty\n",
    "l2_c = 0    # cooling on l2\n",
    "damp = 0    # damping paramerer\n",
    "E_vec=np.zeros(len(asp_vec))    \n",
    "ang_vec=np.zeros(len(asp_vec))\n",
    "niter = 400    #maximum number of iterations\n",
    "tol = 1e-6     # tolerance on the result\n",
    "d=0            # continuous spectrum or row-orthogonal"
   ]
  },
  {
   "cell_type": "code",
   "execution_count": null,
   "metadata": {
    "scrolled": true
   },
   "outputs": [],
   "source": [
    "damp = 0\n",
    "for k in range(0,3):\n",
    "    asp = asp_vec[k]\n",
    "    print(k)\n",
    "    f = lambda p : MP(p,asp)\n",
    "    E,ang,conv = SE(1,l1,l2,rho,delta0,f,asp,damp,niter,tol,d,0,l2_c) # first number : 0 - linear regression with noisy linear teahcer, 1- loinear regression with noiseless sign teacher, 2-linear SVC with noiseless sign teacher, 3-logistic regression with noiseless sign teacher\n",
    "    E_vec[k] = E\n",
    "    ang_vec[k] = ang"
   ]
  },
  {
   "cell_type": "code",
   "execution_count": null,
   "metadata": {
    "scrolled": true
   },
   "outputs": [],
   "source": [
    "# Experiment\n",
    "\n",
    "n_exp = 20\n",
    "asp_vec_n = np.linspace(0.1,3,n_exp) # aspect ratios \n",
    "E_vec_n = np.zeros(n_exp)\n",
    "ang_vec_n = np.zeros(n_exp)\n",
    "rho = 0.3  # sparsity parameter of the teacher\n",
    "delta0 = 0\n",
    "d=200 # low dimension, still gives very good agreement with asymptotics\n",
    "n_avg = 100 # choose the averaging number\n",
    "l2 = 0.001\n",
    "for i in range(n_exp):\n",
    "    print((i+1)/n_exp*100,'%')\n",
    "    for k in range(n_avg):  # 20 times averaging, solving the minimization problem with sklearn elastic net\n",
    "            print(k)\n",
    "            asp = asp_vec_n[i]\n",
    "            n = int(asp*d)\n",
    "            x0 = gauss_bernoulli(rho,d)\n",
    "            F_train = np.random.normal(0,np.sqrt(1/n),(n,d)) #F_train,D=build_matrix((1-asp)**2,(1+asp)**2,n,d,asp,0)\n",
    "            w = np.random.normal(0,np.sqrt(delta0),n)\n",
    "            y_train = np.sign(F_train@x0+w)\n",
    "            #clf = LinearSVC(loss = 'hinge',tol = 0.00001,C=1/l2,max_iter = 100000)\n",
    "            #clf = linear_model.ElasticNet(alpha=0.001/n,l1_ratio=1,max_iter = 100000,tol = 0.00001)\n",
    "            clf = linear_model.LogisticRegression(tol=0.00001,C=1/l2,fit_intercept=False,max_iter=100000)\n",
    "            clf.fit(F_train,y_train)\n",
    "            x_train = clf.coef_\n",
    "            #x_train = np.linalg.inv(np.transpose(F_train)@F_train+l2*np.eye(d))@np.transpose(F_train)@y_train\n",
    "            E_vec_n[i] = E_vec_n[i]+np.mean((x0-x_train)**2)\n",
    "            ang_vec_n[i] = ang_vec_n[i]+np.arccos(1/d*x_train@x0/np.sqrt(rho*1/d*np.linalg.norm(x_train)**2))\n",
    "            \n",
    "    E_vec_n[i] = 1/n_avg*E_vec_n[i]\n",
    "    ang_vec_n[i] = 1/n_avg*ang_vec_n[i]"
   ]
  },
  {
   "cell_type": "code",
   "execution_count": null,
   "metadata": {
    "scrolled": true
   },
   "outputs": [],
   "source": [
    "plt.figure()\n",
    "plt.title(\"Square_l2_row_orth_sign_teach\")\n",
    "plt.plot(asp_vec,ang_vec,label=\"SE_prediction_angle\")\n",
    "plt.plot(asp_vec_n,ang_vec_n,'.',label=\"experiment_angle\")\n",
    "plt.plot(asp_vec,E_vec,label=\"SE_prediction_MSE\")\n",
    "plt.plot(asp_vec_n,E_vec_n,'.',label=\"experiment_MSE\")\n",
    "plt.ylabel(\"MSE\")\n",
    "plt.xlabel(\"M/N\")\n",
    "plt.legend()\n",
    "plt.ylim(0,2)\n",
    "#plt.savefig('Square_l2_row_orth', dpi=500, quality = 95)"
   ]
  },
  {
   "cell_type": "code",
   "execution_count": null,
   "metadata": {},
   "outputs": [],
   "source": [
    "df = pd.DataFrame(ang_vec, columns=[\"colummn\"])\n",
    "df.to_csv('Log_l2_0.001_Unif_rho1_ang_SE.csv', index=False)\n",
    "\n",
    "df = pd.DataFrame(ang_vec_n, columns=[\"colummn\"])\n",
    "df.to_csv('Log_l2_0.001_Unif_rho1_ang_EXP.csv', index=False)"
   ]
  }
 ],
 "metadata": {
  "kernelspec": {
   "display_name": "Python 3",
   "language": "python",
   "name": "python3"
  },
  "language_info": {
   "codemirror_mode": {
    "name": "ipython",
    "version": 3
   },
   "file_extension": ".py",
   "mimetype": "text/x-python",
   "name": "python",
   "nbconvert_exporter": "python",
   "pygments_lexer": "ipython3",
   "version": "3.7.6"
  }
 },
 "nbformat": 4,
 "nbformat_minor": 4
}
