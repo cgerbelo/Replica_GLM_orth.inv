{
 "cells": [
  {
   "cell_type": "code",
   "execution_count": null,
   "metadata": {
    "scrolled": true
   },
   "outputs": [],
   "source": [
    "from GVAMP_toolbox import*\n",
    "from inverse_stieltjes import*\n",
    "import pandas as pd"
   ]
  },
  {
   "cell_type": "code",
   "execution_count": null,
   "metadata": {
    "scrolled": true
   },
   "outputs": [],
   "source": [
    "# parameters\n",
    "\n",
    "asp_vec = np.linspace(0.25,3,50)   # aspect_ratio\n",
    "delta0 = 0 # noise (only for linear regression)\n",
    "rho = 0.1   # sparsity of the teacher\n",
    "sigma = 1  # teacher element-wise variance (Gauss-Bernoulli)\n",
    "reg = 0.1 # value of regularization\n",
    "pen = 0     # ratio in the elastic net, 0 is pure l2, 1 is pure l1\n",
    "niter = 400    # maximum number of iterations\n",
    "tol = 1e-6     # tolerance on the result\n",
    "dist=0            # continuous spectrum (0) or row-orthogonal (1)\n",
    "lo=3          # choosing the problem : lo: 0 - linear regression with noisy linear teacher, 1- linear regression with noiseless sign teacher, 2-linear SVC with noiseless sign teacher, 3-logistic regression with noiseless sign teacher\n",
    "damp = 0.1      # damp"
   ]
  },
  {
   "cell_type": "code",
   "execution_count": null,
   "metadata": {
    "scrolled": true
   },
   "outputs": [],
   "source": [
    "E_vec,ang_vec = replica(lo,delta0,rho,sigma,reg,pen,dist,asp_vec,damp,niter,tol)"
   ]
  },
  {
   "cell_type": "code",
   "execution_count": null,
   "metadata": {},
   "outputs": [],
   "source": [
    "plt.plot(asp_vec,ang_vec)"
   ]
  },
  {
   "cell_type": "code",
   "execution_count": null,
   "metadata": {
    "scrolled": true
   },
   "outputs": [],
   "source": [
    "# Experiment\n",
    "\n",
    "n_exp = 20\n",
    "asp_vec_n = np.linspace(0.25,3,n_exp) # aspect ratios \n",
    "E_vec_n = np.zeros(n_exp)\n",
    "ang_vec_n = np.zeros(n_exp)\n",
    "rho = 0.1  # sparsity parameter of the teacher\n",
    "delta0 = 0\n",
    "n_avg = 100 # averaging number\n",
    "l2 = 1\n",
    "for i in range(n_exp):\n",
    "    print((i+1)/n_exp*100,'%')\n",
    "    count = 0\n",
    "    asp = asp_vec_n[i]\n",
    "    if asp == 0.25:\n",
    "        d = 1000\n",
    "    else:\n",
    "        d = 500\n",
    "    n = int(d*asp)\n",
    "    #clf = LinearSVC(loss = 'hinge',tol = 0.00001,C=1/l2,max_iter = 100000)\n",
    "    #clf = linear_model.ElasticNet(alpha=0.001/n,l1_ratio=1,max_iter = 100000,tol = 0.00001)\n",
    "    clf = linear_model.LogisticRegression(penalty='l1',tol=1e-7,C=1/l2,fit_intercept=False,max_iter=1000000,solver = 'saga')\n",
    "    while count<n_avg: \n",
    "            print(count)\n",
    "            x0 = gauss_bernoulli(rho,d,sigma)\n",
    "            w = np.random.normal(0,np.sqrt(delta0),n)\n",
    "            F_train,D=build_matrix((1-asp)**2,(1+asp)**2,n,d,asp,1) #F_train = np.random.normal(0,np.sqrt(1/n),(n,d)) #F_train,D=build_matrix((1-asp)**2,(1+asp)**2,n,d,asp,1) \n",
    "            y_train = np.sign(F_train@x0+w)\n",
    "            clf.fit(F_train,y_train)\n",
    "            x_train = clf.coef_\n",
    "            #x_train = np.linalg.inv(np.transpose(F_train)@F_train+l2*np.eye(d))@np.transpose(F_train)@y_train\n",
    "            print(np.linalg.norm(x_train))\n",
    "            if np.linalg.norm(x_train)>1e-9:\n",
    "                val = x_train@x0/(np.linalg.norm(x0)*np.linalg.norm(x_train))\n",
    "                ang_vec_n[i] = ang_vec_n[i]+val\n",
    "                E_vec_n[i] = E_vec_n[i]+np.mean((x0-x_train)**2)\n",
    "                count = count+1\n",
    "            \n",
    "    E_vec_n[i] = 1/n_avg*E_vec_n[i]\n",
    "    ang_vec_n[i] = np.arccos(1/n_avg*ang_vec_n[i])"
   ]
  },
  {
   "cell_type": "code",
   "execution_count": null,
   "metadata": {},
   "outputs": [],
   "source": [
    "print(ang_vec_n)"
   ]
  },
  {
   "cell_type": "code",
   "execution_count": null,
   "metadata": {
    "scrolled": true
   },
   "outputs": [],
   "source": [
    "plt.figure()\n",
    "plt.title(\"Logistic_regression_Gaussian\")\n",
    "plt.plot(asp_vec,ang_vec,label=\"SE_prediction_angle\")\n",
    "plt.plot(asp_vec_n,ang_vec_n,'.',label=\"experiment_angle\")\n",
    "#plt.plot(asp_vec,E_vec,label=\"SE_prediction_MSE\")\n",
    "#plt.plot(asp_vec_n,E_vec_n,'.',label=\"experiment_MSE\")\n",
    "plt.ylabel(\"angle\")\n",
    "plt.xlabel(\"M/N\")\n",
    "plt.legend()\n",
    "#plt.savefig('Square_l2_row_orth', dpi=500, quality = 95)"
   ]
  },
  {
   "cell_type": "code",
   "execution_count": null,
   "metadata": {},
   "outputs": [],
   "source": [
    "df = pd.DataFrame(ang_vec, columns=[\"colummn\"])\n",
    "df.to_csv('test_data2_th.csv', index=False)"
   ]
  },
  {
   "cell_type": "code",
   "execution_count": null,
   "metadata": {},
   "outputs": [],
   "source": [
    "df = pd.DataFrame(ang_vec_n, columns=[\"colummn\"])\n",
    "df.to_csv('logistic_l1_1_RO_rho_0.1_exp.csv', index=False)"
   ]
  },
  {
   "cell_type": "code",
   "execution_count": null,
   "metadata": {},
   "outputs": [],
   "source": []
  }
 ],
 "metadata": {
  "kernelspec": {
   "display_name": "Python 3",
   "language": "python",
   "name": "python3"
  },
  "language_info": {
   "codemirror_mode": {
    "name": "ipython",
    "version": 3
   },
   "file_extension": ".py",
   "mimetype": "text/x-python",
   "name": "python",
   "nbconvert_exporter": "python",
   "pygments_lexer": "ipython3",
   "version": "3.7.6"
  }
 },
 "nbformat": 4,
 "nbformat_minor": 4
}
